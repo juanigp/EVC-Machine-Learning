{
 "cells": [
  {
   "cell_type": "markdown",
   "metadata": {},
   "source": [
    "# Linear regression \n"
   ]
  },
  {
   "cell_type": "code",
   "execution_count": 13,
   "metadata": {
    "collapsed": true
   },
   "outputs": [],
   "source": [
    "import torch\n",
    "import torch.nn as nn\n",
    "import numpy as np\n",
    "import matplotlib.pyplot as plt\n",
    "from torch.autograd import Variable"
   ]
  },
  {
   "cell_type": "code",
   "execution_count": 14,
   "metadata": {
    "collapsed": true
   },
   "outputs": [],
   "source": [
    "#Hyper Parameters\n",
    "input_size = 1\n",
    "output_size = 1\n",
    "num_epochs = 1000\n",
    "learning_rate = 0.001\n",
    "\n",
    "\n",
    "#Dataset\n",
    "x_train = torch.rand(30, input_size).type(torch.FloatTensor)\n",
    "y_train = torch.rand(30, output_size).type(torch.FloatTensor)\n",
    "\n",
    "\n",
    "#linear regression model. Inherits nn.Module\n",
    "class LinearRegression(nn.Module):\n",
    "    def __init__(self, input_size, output_size):\n",
    "        #nn.Module.__init__(self)\n",
    "        super(LinearRegression, self).__init__()\n",
    "        #linear layer: applies a linear transformation to incoming data\n",
    "        self.linear = nn.Linear(input_size, output_size) \n",
    "        \n",
    "    #defines the computation performed at every call\n",
    "    def forward(self, x):\n",
    "        #apply linear transformation\n",
    "        out = self.linear(x)\n",
    "        return out\n"
   ]
  },
  {
   "cell_type": "code",
   "execution_count": 15,
   "metadata": {
    "collapsed": true
   },
   "outputs": [],
   "source": [
    "model = LinearRegression(input_size, output_size)\n",
    "\n",
    "#Loss and Optimizer\n",
    "#creates a criterion that measures the mean squared error \n",
    "#between n elements in the input x and target y\n",
    "criterion = nn.MSELoss()\n",
    "#optimizer, Stochastic Gradient Descent\n",
    "optimizer = torch.optim.SGD(model.parameters(), lr = learning_rate)"
   ]
  },
  {
   "cell_type": "code",
   "execution_count": 17,
   "metadata": {},
   "outputs": [
    {
     "name": "stderr",
     "output_type": "stream",
     "text": [
      "C:\\Users\\Juanig\\Anaconda3\\lib\\site-packages\\ipykernel_launcher.py:20: UserWarning: invalid index of a 0-dim tensor. This will be an error in PyTorch 0.5. Use tensor.item() to convert a 0-dim tensor to a Python number\n"
     ]
    },
    {
     "name": "stdout",
     "output_type": "stream",
     "text": [
      "Epoch [100/1000], Loss: 0.1282\n",
      "Epoch [200/1000], Loss: 0.1276\n",
      "Epoch [300/1000], Loss: 0.1271\n",
      "Epoch [400/1000], Loss: 0.1267\n",
      "Epoch [500/1000], Loss: 0.1262\n",
      "Epoch [600/1000], Loss: 0.1257\n",
      "Epoch [700/1000], Loss: 0.1253\n",
      "Epoch [800/1000], Loss: 0.1248\n",
      "Epoch [900/1000], Loss: 0.1244\n",
      "Epoch [1000/1000], Loss: 0.1240\n"
     ]
    }
   ],
   "source": [
    "#Train\n",
    "for epoch in range(num_epochs):\n",
    "    inputs = x_train\n",
    "    targets = y_train\n",
    "    \n",
    "    #Forward + Backward + Optimize\n",
    "    \n",
    "    #clears the gradients of all optimized torch.Tensors \n",
    "    optimizer.zero_grad()\n",
    "    #applies linear transformation (a call to model.forward(inputs) )\n",
    "    output = model(inputs)\n",
    "    #calculates RMS error between targets and output\n",
    "    loss = criterion(output, targets)\n",
    "    #accumulates the gradient for each parameter\n",
    "    loss.backward()\n",
    "    #updates parameters based on current gradients\n",
    "    optimizer.step()\n",
    "    \n",
    "    if (epoch + 1) % 100 == 0:\n",
    "        print ('Epoch [%d/%d], Loss: %.4f' %(epoch+1, num_epochs, loss.data[0])) \n"
   ]
  },
  {
   "cell_type": "code",
   "execution_count": 18,
   "metadata": {},
   "outputs": [
    {
     "data": {
      "image/png": "[encoded data removed]",
      "text/plain": [
       "<matplotlib.figure.Figure at 0x12cb8b00>"
      ]
     },
     "metadata": {},
     "output_type": "display_data"
    }
   ],
   "source": [
    "#Plot\n",
    "predicted = model(x_train).data\n",
    "plt.plot(x_train.numpy(), y_train.numpy(), 'ro', label='Original data')\n",
    "plt.plot(x_train.numpy(), predicted.numpy(), label='Fitted line')\n",
    "plt.legend()\n",
    "plt.show()"
   ]
  },
  {
   "cell_type": "code",
   "execution_count": null,
   "metadata": {
    "collapsed": true
   },
   "outputs": [],
   "source": []
  },
  {
   "cell_type": "code",
   "execution_count": null,
   "metadata": {
    "collapsed": true
   },
   "outputs": [],
   "source": []
  }
 ],
 "metadata": {
  "kernelspec": {
   "display_name": "Python 3",
   "language": "python",
   "name": "python3"
  },
  "language_info": {
   "codemirror_mode": {
    "name": "ipython",
    "version": 3
   },
   "file_extension": ".py",
   "mimetype": "text/x-python",
   "name": "python",
   "nbconvert_exporter": "python",
   "pygments_lexer": "ipython3",
   "version": "3.6.3"
  }
 },
 "nbformat": 4,
 "nbformat_minor": 2
}
