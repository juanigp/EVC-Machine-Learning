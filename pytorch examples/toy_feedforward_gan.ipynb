{
 "cells": [
  {
   "cell_type": "markdown",
   "metadata": {},
   "source": [
    "# Toy feedforward GAN, MNIST dataset\n",
    "\n",
    "### New concepts:\n",
    "• Tanh regularization\n",
    "\n",
    "• BCE Loss function"
   ]
  },
  {
   "cell_type": "code",
   "execution_count": 0,
   "metadata": {
    "collapsed": true
   },
   "outputs": [],
   "source": [
    "import os\n",
    "import torch\n",
    "import torchvision\n",
    "import torch.nn as nn\n",
    "from torchvision import transforms\n",
    "from torchvision.utils import save_image\n",
    "from matplotlib import pyplot as plt"
   ]
  },
  {
   "cell_type": "code",
   "execution_count": 1,
   "metadata": {
    "collapsed": true
   },
   "outputs": [],
   "source": [
    "#Parameters\n",
    "latent_size = 64\n",
    "hidden_size = 256\n",
    "image_size = 28*28\n",
    "num_epochs = 100\n",
    "batch_size = 100\n",
    "sample_dir = 'feedforward_mnist_gan/samples'\n",
    "\n",
    "#Normalization of images\n",
    "mean = 0.5\n",
    "std = 0.5\n",
    "    \n",
    "if not os.path.exists(sample_dir):\n",
    "    os.makedirs(sample_dir)    "
   ]
  },
  {
   "cell_type": "markdown",
   "metadata": {},
   "source": [
    "### Dataset loading, inspecting"
   ]
  },
  {
   "cell_type": "code",
   "execution_count": 2,
   "metadata": {},
   "outputs": [],
   "source": [
    "train_dataset = torchvision.datasets.MNIST(root='mnist/', download=False)\n",
    "raw_data = [data for data in train_dataset]"
   ]
  },
  {
   "cell_type": "code",
   "execution_count": 3,
   "metadata": {},
   "outputs": [
    {
     "data": {
      "image/png": "iVBORw0KGgoAAAANSUhEUgAAAP8AAAD8CAYAAAC4nHJkAAAABHNCSVQICAgIfAhkiAAAAAlwSFlz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\n+CGU+CGU+CGU+CGU+CGU+CHUf+FsNTkv2hLSAAAAAElFTkSuQmCC\n",
      "text/plain": [
       "<matplotlib.figure.Figure at 0x1af4aba8>"
      ]
     },
     "metadata": {},
     "output_type": "display_data"
    },
    {
     "name": "stdout",
     "output_type": "stream",
     "text": [
      "label: 5\n"
     ]
    }
   ],
   "source": [
    "plt.imshow(raw_data[0][0], cmap = 'gray')\n",
    "plt.axis('off')\n",
    "plt.show()\n",
    "print(\"label: {}\".format(raw_data[0][1]))"
   ]
  },
  {
   "cell_type": "markdown",
   "metadata": {},
   "source": [
    "### Data loader"
   ]
  },
  {
   "cell_type": "code",
   "execution_count": 4,
   "metadata": {},
   "outputs": [],
   "source": [
    "transform = transforms.Compose([transforms.ToTensor(),transforms.Normalize(mean = (mean,), std = (std,))])\n",
    "tensor_data = [ [transform(xy[0]), xy[1]] for xy in raw_data ]   \n",
    "train_loader = torch.utils.data.DataLoader(tensor_data, batch_size=batch_size, shuffle=True)"
   ]
  },
  {
   "cell_type": "markdown",
   "metadata": {},
   "source": [
    "### Discriminator and Generator architectures"
   ]
  },
  {
   "cell_type": "code",
   "execution_count": 5,
   "metadata": {
    "collapsed": true
   },
   "outputs": [],
   "source": [
    "# Discriminator\n",
    "D = nn.Sequential(\n",
    "    nn.Linear(image_size, hidden_size),\n",
    "    nn.LeakyReLU(0.2),\n",
    "    nn.Linear(hidden_size, hidden_size),\n",
    "    nn.LeakyReLU(0.2),\n",
    "    nn.Linear(hidden_size, 1),\n",
    "    nn.Sigmoid())\n",
    "    \n",
    "# Generator \n",
    "G = nn.Sequential(\n",
    "    nn.Linear(latent_size, hidden_size),\n",
    "    nn.ReLU(),\n",
    "    nn.Linear(hidden_size, hidden_size),\n",
    "    nn.ReLU(),\n",
    "    nn.Linear(hidden_size, image_size),\n",
    "    nn.Tanh())\n",
    "\n",
    "\n",
    "# Binary cross entropy loss and optimizer\n",
    "criterion = nn.BCELoss()\n",
    "d_optimizer = torch.optim.Adam(D.parameters(), lr=0.0002)\n",
    "g_optimizer = torch.optim.Adam(G.parameters(), lr=0.0002)\n",
    "\n"
   ]
  },
  {
   "cell_type": "code",
   "execution_count": 6,
   "metadata": {
    "collapsed": true
   },
   "outputs": [],
   "source": [
    "#denormalize the images\n",
    "def denorm(x):\n",
    "    out = x*0.5 + 0.5\n",
    "    return out.clamp(0, 1)\n",
    "\n",
    "#reset gradients of both nets\n",
    "def reset_grad():\n",
    "    d_optimizer.zero_grad()\n",
    "    g_optimizer.zero_grad()\n",
    "\n",
    "# Start training\n",
    "total_step = len(train_loader)\n",
    "for epoch in range(num_epochs):\n",
    "    for i, (images, _) in enumerate(train_loader):\n",
    "        \n",
    "        #reshape images accordingly, to fit input layer\n",
    "        images = images.reshape(batch_size, -1)\n",
    "        \n",
    "        # Create the labels which are later used as input for the BCE loss\n",
    "        \n",
    "        #real labels, all 1s\n",
    "        real_labels = torch.ones(batch_size, 1)\n",
    "        \n",
    "        #fake lables, all 0s\n",
    "        fake_labels = torch.zeros(batch_size, 1)\n",
    "        \n",
    "        \n",
    "        #### Train the Discriminator Network ####\n",
    "        \n",
    "\n",
    "        #discriminate real images\n",
    "        outputs = D(images)\n",
    "        #Compute BCE Loss using the real images:\n",
    "        d_loss_real = criterion(outputs, real_labels)\n",
    "        real_score = outputs\n",
    "        \n",
    "        #fake images generation\n",
    "        #input random vector\n",
    "        z = torch.randn(batch_size, latent_size)\n",
    "        fake_images = G(z)\n",
    "        #discriminate fake images\n",
    "        outputs = D(fake_images)\n",
    "        #Compute BCELoss using fake images        \n",
    "        d_loss_fake = criterion(outputs, fake_labels)\n",
    "        fake_score = outputs\n",
    "        \n",
    "        # Backprop and optimize\n",
    "        d_loss = d_loss_real + d_loss_fake\n",
    "        reset_grad()\n",
    "        d_loss.backward()\n",
    "        d_optimizer.step()\n",
    "        \n",
    "        #### Train the Generator Network ####\n",
    "\n",
    "        #fake images generation\n",
    "        z = torch.randn(batch_size, latent_size)\n",
    "        fake_images = G(z)\n",
    "        #discriminate fake images\n",
    "        outputs = D(fake_images)\n",
    "        #Compute loss with fake images\n",
    "        #the Generator is trained so that D will predict the fake images as real ones!\n",
    "        g_loss = criterion(outputs, real_labels)\n",
    "        \n",
    "        # Backprop and optimize\n",
    "        reset_grad()\n",
    "        g_loss.backward()\n",
    "        g_optimizer.step()\n",
    "        \n",
    "        
    "    # Save real images\n",
    "    if (epoch+1) == 1:\n",
    "        images = images.reshape(images.size(0), 1, 28, 28)\n",
    "        save_image(denorm(images), os.path.join(sample_dir, 'real_images.png'))\n",
    "    \n",
    "    # Save sampled images\n",
    "    fake_images = fake_images.reshape(fake_images.size(0), 1, 28, 28)\n",
    "    save_image(denorm(fake_images), os.path.join(sample_dir, 'fake_images-{}.png'.format(epoch+1)))\n"
   ]
  },
  {
   "cell_type": "markdown",
   "metadata": {},
   "source": [
    "### Saving the models"
   ]
  },
  {
   "cell_type": "code",
   "execution_count": 7,
   "metadata": {
    "collapsed": true
   },
   "outputs": [],
   "source": [
    "# Save the model checkpoints \n",
    "torch.save(G.state_dict(), 'G.ckpt')\n",
    "torch.save(D.state_dict(), 'D.ckpt')"
   ]
  },
  {
   "cell_type": "markdown",
   "metadata": {},
   "source": [
    "### Some results!\n",
    "#### After 90 epochs:"
   ]
  },
  {
   "cell_type": "code",
   "execution_count": 8,
   "metadata": {},
   "outputs": [
    {
     "data": {
      "image/png": "iVBORw0KGgoAAAANSUhEUgAAALIAAAD8CAYAAADT2P50AAAABHNCSVQICAgIfAhkiAAAAAlwSFlz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\n",
      "text/plain": [
       "<matplotlib.figure.Figure at 0x1bfb4d68>"
      ]
     },
     "metadata": {},
     "output_type": "display_data"
    }
   ],
   "source": [
    "img = plt.imread(sample_dir + '/fake_images-90.png' )\n",
    "plt.imshow(img)\n",
    "plt.axis('off')\n",
    "plt.show()"
   ]
  }
 ],
 "metadata": {
  "kernelspec": {
   "display_name": "Python 3",
   "language": "python",
   "name": "python3"
  },
  "language_info": {
   "codemirror_mode": {
    "name": "ipython",
    "version": 3
   },
   "file_extension": ".py",
   "mimetype": "text/x-python",
   "name": "python",
   "nbconvert_exporter": "python",
   "pygments_lexer": "ipython3",
   "version": "3.6.3"
  }
 },
 "nbformat": 4,
 "nbformat_minor": 2
}
