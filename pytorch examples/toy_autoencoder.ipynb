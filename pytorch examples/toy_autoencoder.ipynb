{
 "cells": [
  {
   "cell_type": "markdown",
   "metadata": {},
   "source": [
    "# Convolutional Autoencoder, MNIST dataset\n",
    "\n",
    "To do:\n",
    "- comment\n",
    "- test"
   ]
  },
  {
   "cell_type": "code",
   "execution_count": 1,
   "metadata": {},
   "outputs": [],
   "source": [
    "import torch \n",
    "from torch.autograd import Variable\n",
    "import torch.nn as nn\n",
    "import torchvision\n",
    "import torchvision.transforms as transforms\n",
    "import random\n",
    "from matplotlib import pyplot as plt"
   ]
  },
  {
   "cell_type": "code",
   "execution_count": 2,
   "metadata": {},
   "outputs": [],
   "source": [
    "num_epochs = 1\n",
    "batch_size = 100\n",
    "learning_rate = 0.001"
   ]
  },
  {
   "cell_type": "code",
   "execution_count": 3,
   "metadata": {},
   "outputs": [],
   "source": [
    "#dataset for training (download = True to download the dataset for the first time)\n",
    "train_dataset = torchvision.datasets.MNIST('mnist/',train=True,transform=transforms.ToTensor(), download=False)\n",
    "#loader\n",
    "train_loader = torch.utils.data.DataLoader(dataset=train_dataset, batch_size=batch_size, shuffle=True)\n",
    "#dataset for testing (download = True to download the dataset for the first time)\n",
    "test_dataset = torchvision.datasets.MNIST('mnist/',train=False,transform=transforms.ToTensor(), download=False)\n",
    "#loader\n",
    "test_loader = torch.utils.data.DataLoader(dataset=test_dataset, batch_size=batch_size, shuffle=False)"
   ]
  },
  {
   "cell_type": "code",
   "execution_count": 4,
   "metadata": {},
   "outputs": [],
   "source": [
    "class Autoencoder(nn.Module):\n",
    "    def __init__(self):\n",
    "        super(Autoencoder, self).__init__()\n",
    "\n",
    "        self.enc_1 = nn.Sequential(\n",
    "            nn.Conv2d(1,16, kernel_size = 5, stride = 2),\n",
    "            nn.BatchNorm2d(16),\n",
    "            nn.ReLU()\n",
    "        )\n",
    "        self.enc_2 = nn.Sequential(\n",
    "            nn.Conv2d(16,32, kernel_size = 5, stride = 2),\n",
    "            nn.BatchNorm2d(32),\n",
    "            nn.ReLU()\n",
    "        )\n",
    "        self.enc_3 = nn.Sequential(\n",
    "            nn.Conv2d(32,64, kernel_size = 3, stride = 2),\n",
    "            nn.BatchNorm2d(64),\n",
    "            nn.ReLU()\n",
    "        )\n",
    "        \n",
    "        self.dec_1 = nn.Sequential(\n",
    "            nn.ConvTranspose2d(64, 32, kernel_size = 4, stride = 2),\n",
    "            nn.ReLU()\n",
    "        )\n",
    "        \n",
    "        self.dec_2 = nn.Sequential(\n",
    "            nn.ConvTranspose2d(32, 16, kernel_size = 5, stride = 2),\n",
    "            nn.ReLU()\n",
    "        )       \n",
    "        \n",
    "        self.dec_3 = nn.Sequential(\n",
    "            nn.ConvTranspose2d(16, 1, kernel_size = 8, stride = 2),\n",
    "            nn.ReLU()\n",
    "        )        \n",
    "\n",
    "    def forward(self, x):\n",
    "        out = self.enc_1(x)\n",
    "        out = self.enc_2(out)\n",
    "        out = self.enc_3(out)\n",
    "        \n",
    "        out = self.dec_1(out)\n",
    "        out = self.dec_2(out)\n",
    "        out = self.dec_3(out)\n",
    "        return out        \n",
    "        "
   ]
  },
  {
   "cell_type": "code",
   "execution_count": 5,
   "metadata": {},
   "outputs": [],
   "source": [
    "model = Autoencoder()\n",
    "\n",
    "criterion = nn.BCEWithLogitsLoss() #instead of BCELoss() for some fuckin reason\n",
    "optimizer = torch.optim.Adam(model.parameters(), lr = learning_rate)"
   ]
  },
  {
   "cell_type": "code",
   "execution_count": 6,
   "metadata": {},
   "outputs": [],
   "source": [
    "total_step = len(train_loader)\n",
    "for epoch in range(num_epochs):\n",
    "    for i, (images, labels) in enumerate(train_loader):\n",
    "        #print (images.size())\n",
    "        \n",
    "        #forward pass\n",
    "        outputs = model(images)\n",
    "        #print(outputs.size())\n",
    "        loss = criterion(outputs, images)\n",
    "        \n",
    "        #backward & optimize\n",
    "        optimizer.zero_grad()\n",
    "        loss.backward()\n",
    "        optimizer.step()\n",
    "        \"\"\" \n",
    "        if (i+1) % 1 == 0:\n",
    "            print('Epoch [{}/{}], Step [{}/{}], Loss: {:.4f}' \n",
    "                .format(epoch+1, num_epochs, i+1, total_step, loss.item()))\n",
    "        \"\"\"        \n",
    "        \n",
    "torch.save(model.state_dict(), 'toy_autoencoder.pkl')  "
   ]
  },
  {
   "cell_type": "code",
   "execution_count": null,
   "metadata": {},
   "outputs": [],
   "source": [
    "model.eval()\n",
    "test_image = random.choice(test_dataset)\n",
    "test_reconst = model((test_image[0].unsqueeze_(0)))\n",
    "plt.imshow(test_reconst[0][0].detach().numpy()*1000, cmap = 'gray')"
   ]
  }
 ],
 "metadata": {
  "kernelspec": {
   "display_name": "Python 3",
   "language": "python",
   "name": "python3"
  },
  "language_info": {
   "codemirror_mode": {
    "name": "ipython",
    "version": 3
   },
   "file_extension": ".py",
   "mimetype": "text/x-python",
   "name": "python",
   "nbconvert_exporter": "python",
   "pygments_lexer": "ipython3",
   "version": "3.6.6"
  }
 },
 "nbformat": 4,
 "nbformat_minor": 2
}
