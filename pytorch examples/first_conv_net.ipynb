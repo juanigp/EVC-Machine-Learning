{
 "cells": [
  {
   "cell_type": "markdown",
   "metadata": {},
   "source": [
    "# Conv Net classifier, MNIST Dataset"
   ]
  },
  {
   "cell_type": "markdown",
   "metadata": {},
   "source": [
    "### New concepts:\n",
    "•Convolution net\n",
    "\n",
    "•Batch normalization, Max pooling\n",
    "\n",
    "•Cross entropy loss\n",
    "\n",
    "•Adam optimization algorithm"
   ]
  },
  {
   "cell_type": "code",
   "execution_count": 2,
   "metadata": {
    "collapsed": true
   },
   "outputs": [],
   "source": [
    "import torch \n",
    "import torch.nn as nn\n",
    "import torchvision\n",
    "import torchvision.transforms as transforms\n",
    "from random import randint\n",
    "from matplotlib import pyplot as plt"
   ]
  },
  {
   "cell_type": "code",
   "execution_count": 6,
   "metadata": {
    "collapsed": true
   },
   "outputs": [],
   "source": [
    "num_epochs = 5\n",
    "num_classes = 10\n",
    "batch_size = 100\n",
    "learning_rate = 0.001"
   ]
  },
  {
   "cell_type": "code",
   "execution_count": 7,
   "metadata": {},
   "outputs": [],
   "source": [
    "#dataset for training (download = True to download the dataset for the first time)\n",
    "train_dataset = torchvision.datasets.MNIST('mnist/',train=True,transform=transforms.ToTensor(), download=False)\n",
    "#loader\n",
    "train_loader = torch.utils.data.DataLoader(dataset=train_dataset, batch_size=batch_size, shuffle=True)\n",
    "#dataset for testing (download = True to download the dataset for the first time)\n",
    "test_dataset = torchvision.datasets.MNIST('mnist/',train=False,transform=transforms.ToTensor(), download=False)\n",
    "#loader\n",
    "test_loader = torch.utils.data.DataLoader(dataset=test_dataset, batch_size=batch_size, shuffle=False)\n"
   ]
  },
  {
   "cell_type": "markdown",
   "metadata": {},
   "source": [
    "### ConvNet class"
   ]
  },
  {
   "cell_type": "code",
   "execution_count": 18,
   "metadata": {
    "collapsed": true
   },
   "outputs": [],
   "source": [
    "class ConvNet(nn.Module):\n",
    "    def __init__(self, num_classes):\n",
    "        super(ConvNet, self).__init__()\n",
    "        #Two sequential container layers \n",
    "        #first one\n",
    "        self.layer1 = nn.Sequential(\n",
    "            #1 tensor as input, 16 outputs (so it has 16 different conv filters)\n",
    "            nn.Conv2d(1, 16, kernel_size = 5, stride = 1, padding = 2),\n",
    "            #batch normalization to the 16 outs\n",
    "            nn.BatchNorm2d(16),\n",
    "            #ReLU activation\n",
    "            nn.ReLU(),\n",
    "            #Max pooling\n",
    "            nn.MaxPool2d(kernel_size = 2, stride = 2))\n",
    "        #second one\n",
    "        self.layer2 = nn.Sequential(\n",
    "            nn.Conv2d(16, 32, kernel_size = 5, stride = 1, padding = 2),\n",
    "            nn.BatchNorm2d(32),\n",
    "            nn.ReLU(),\n",
    "            nn.MaxPool2d(kernel_size = 2, stride = 2))\n",
    "        #output layer: 32*w*h\n",
    "        self.output_layer = nn.Linear(7*7*32, num_classes)\n",
    "        \n",
    "        \n",
    "    def forward(self, x):\n",
    "        out = self.layer1(x)\n",
    "        out = self.layer2(out)\n",
    "        out = out.reshape(out.size(0), -1)\n",
    "        out = self.output_layer(out)\n",
    "        return out\n",
    "    "
   ]
  },
  {
   "cell_type": "markdown",
   "metadata": {},
   "source": [
    "### Instantiating, training and saving a model"
   ]
  },
  {
   "cell_type": "code",
   "execution_count": null,
   "metadata": {
    "collapsed": true
   },
   "outputs": [],
   "source": [
    "model = ConvNet(10)\n",
    "\n",
    "criterion = nn.CrossEntropyLoss()\n",
    "optimizer = torch.optim.Adam(model.parameters(), lr = learning_rate)\n"
   ]
  },
  {
   "cell_type": "code",
   "execution_count": null,
   "metadata": {
    "collapsed": true
   },
   "outputs": [],
   "source": [
    "total_step = len(train_loader)\n",
    "for epoch in range(num_epochs):\n",
    "    for i, (images, labels) in enumerate(train_loader):\n",
    "        \n",
    "        #forward pass\n",
    "        outputs = model(images)\n",
    "        loss = criterion(outputs, labels)\n",
    "        \n",
    "        #backward & optimize\n",
    "        optimizer.zero_grad()\n",
    "        loss.backward()\n",
    "        optimizer.step()\n",
    "        if (i+1) % 100 == 0:\n",
    "            print('Epoch [{}/{}], Step [{}/{}], Loss: {:.4f}' \n",
    "                .format(epoch+1, num_epochs, i+1, total_step, loss.item()))\n",
    "        \n",
    "torch.save(model.state_dict(), 'first_conv_net.pkl')       "
   ]
  },
  {
   "cell_type": "markdown",
   "metadata": {},
   "source": [
    "### Loading a previously trained model"
   ]
  },
  {
   "cell_type": "code",
   "execution_count": 19,
   "metadata": {},
   "outputs": [
    {
     "name": "stdout",
     "output_type": "stream",
     "text": [
      "Test Accuracy of the model on the 10000 test images: 99.12 %\n"
     ]
    }
   ],
   "source": [
    "model = ConvNet(10)\n",
    "model.load_state_dict(torch.load('first_conv_net.pkl'))\n",
    "\n",
    "#evaluation mode, gradient calculations disabled\n",
    "model.eval()\n",
    "with torch.no_grad():\n",
    "    correct = 0\n",
    "    total = 0\n",
    "    \n",
    "    #testing the whole test dataset\n",
    "    for images, labels in test_loader:\n",
    "        outputs = model(images)\n",
    "        _, predicted = torch.max(outputs.data,1)\n",
    "        total += labels.size(0)\n",
    "        correct += (predicted == labels).sum().item()\n",
    "    print('Test Accuracy of the model on the 10000 test images: {} %'.format(100 * correct / total))\n",
    "        "
   ]
  },
  {
   "cell_type": "markdown",
   "metadata": {},
   "source": [
    "### Lets see the convolution filters! from 1st conv layer and 2nd conv layer respectively"
   ]
  },
  {
   "cell_type": "code",
   "execution_count": 42,
   "metadata": {},
   "outputs": [
    {
     "data": {
      "image/png": "[encoded data removed]",
      "text/plain": [
       "<matplotlib.figure.Figure at 0x11d30dd8>"
      ]
     },
     "metadata": {},
     "output_type": "display_data"
    },
    {
     "data": {
      "image/png": "[encoded data removed]",
      "text/plain": [
       "<matplotlib.figure.Figure at 0x1255e438>"
      ]
     },
     "metadata": {},
     "output_type": "display_data"
    }
   ],
   "source": [
    "weights_1 = model.layer1[0].weight.data.numpy()\n",
    "weights_2 = model.layer2[0].weight.data.numpy()\n",
    "\n",
    "rows = 4\n",
    "cols = 4\n",
    "cmap = \"gray\"\n",
    "\n",
    "#creates a figure and axes object of rows and cols\n",
    "fig, axs = plt.subplots(rows, cols)\n",
    "fig.suptitle('First layer conv filters')\n",
    "\n",
    "for i in range(rows):\n",
    "    for j in range(cols):\n",
    "        kernel = weights_1[i*cols + j][0] \n",
    "        axs[i, j].imshow(kernel, cmap=cmap)\n",
    "        axs[i, j].axis('off')\n",
    "plt.show()\n",
    "\n",
    "rows = 8\n",
    "fig, axs = plt.subplots(rows, cols)\n",
    "fig.suptitle('Second layer conv filters')\n",
    "\n",
    "for i in range(rows):\n",
    "    for j in range(cols):\n",
    "        kernel = weights_2[i*cols + j][0] \n",
    "        images.append(axs[i, j].imshow(kernel, cmap=cmap))\n",
    "        axs[i, j].axis('off')\n",
    "plt.show()\n",
    "\n",
    "\n"
   ]
  },
  {
   "cell_type": "markdown",
   "metadata": {},
   "source": [
    "### Lets classify a random image from the test dataset"
   ]
  },
  {
   "cell_type": "code",
   "execution_count": 20,
   "metadata": {},
   "outputs": [
    {
     "data": {
      "image/png": "[encoded data removed]",
      "text/plain": [
       "<matplotlib.figure.Figure at 0x117c9080>"
      ]
     },
     "metadata": {},
     "output_type": "display_data"
    },
    {
     "name": "stdout",
     "output_type": "stream",
     "text": [
      "my prediction is 4 and the actual image was a 4\n"
     ]
    }
   ],
   "source": [
    "i = randint(0,10000)\n",
    "img = test_dataset[i][0]\n",
    "#The model takes batches of images so my single image needs to be included in a batch\n",
    "#tensor.unsqueeze_() adds a single dimension at the specified position\n",
    "img.unsqueeze_(0)\n",
    "out = model(img)\n",
    "_, predicted = torch.max(out.data, 1)\n",
    "\n",
    "plt.imshow(img[0][0], cmap = 'gray')\n",
    "plt.show()\n",
    "\n",
    "print(\"my prediction is {} and the actual image was a {}\".format(predicted[0], test_dataset[i][1]))\n"
   ]
  }
 ],
 "metadata": {
  "kernelspec": {
   "display_name": "Python 3",
   "language": "python",
   "name": "python3"
  },
  "language_info": {
   "codemirror_mode": {
    "name": "ipython",
    "version": 3
   },
   "file_extension": ".py",
   "mimetype": "text/x-python",
   "name": "python",
   "nbconvert_exporter": "python",
   "pygments_lexer": "ipython3",
   "version": "3.6.3"
  }
 },
 "nbformat": 4,
 "nbformat_minor": 2
}
