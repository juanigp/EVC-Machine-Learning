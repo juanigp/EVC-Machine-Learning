{
 "cells": [
  {
   "cell_type": "markdown",
   "metadata": {},
   "source": [
    "# Logistic regression and MNIST dataset"
   ]
  },
  {
   "cell_type": "code",
   "execution_count": 1,
   "metadata": {
    "collapsed": true
   },
   "outputs": [],
   "source": [
    "import torch\n",
    "import torch.nn as nn\n",
    "import torch.optim as optim\n",
    "from torchvision import datasets, transforms\n",
    "import torchvision\n",
    "from torch.autograd import Variable\n",
    "from matplotlib import pyplot as plt\n",
    "import random\n"
   ]
  },
  {
   "cell_type": "code",
   "execution_count": 2,
   "metadata": {
    "collapsed": true
   },
   "outputs": [],
   "source": [
    "# parameters\n",
    "inputs, hiddens, outputs = 784, 200, 10\n",
    "learning_rate = 0.01\n",
    "epochs = 50\n",
    "batch_size = 20\n",
    "\n",
    "#compose several transformations together \n",
    "#image to tensor, normalization for the given channels (mean = 0.13, std = 0.3)\n",
    "transformation = transforms.Compose([transforms.ToTensor(),transforms.Normalize((0.1307,), (0.3081,))])\n",
    "#dataset for training (download = True to download the dataset for the first time)\n",
    "train_dataset = datasets.MNIST('mnist/',train=True,transform=transformation, download=False)\n",
    "#loader\n",
    "train_loader = torch.utils.data.DataLoader(dataset=train_dataset, batch_size=batch_size, shuffle=True)\n",
    "#dataset for testing (download = True to download the dataset for the first time)\n",
    "test_dataset = datasets.MNIST('mnist/',train=False,transform=transformation, download=False)\n",
    "#loader\n",
    "test_loader = torch.utils.data.DataLoader(dataset=test_dataset, batch_size=batch_size, shuffle=False)\n"
   ]
  },
  {
   "cell_type": "code",
   "execution_count": 3,
   "metadata": {},
   "outputs": [
    {
     "name": "stdout",
     "output_type": "stream",
     "text": [
      "60000\n",
      "3000\n"
     ]
    }
   ],
   "source": [
    "#the train dataset is comprised by 60000 images\n",
    "print (len(train_dataset))\n",
    "#its loader posseses batches of 20 images\n",
    "print (len(train_loader))\n"
   ]
  },
  {
   "cell_type": "markdown",
   "metadata": {},
   "source": [
    "#### **_Note_**:  train_dataset has a transformation applied. Originally, every element is a tuple of a PIL image and its numeric label."
   ]
  },
  {
   "cell_type": "code",
   "execution_count": 4,
   "metadata": {},
   "outputs": [
    {
     "name": "stdout",
     "output_type": "stream",
     "text": [
      "3\n",
      "torch.Size([1, 28, 28])\n",
      "0\n",
      "torch.Size([])\n"
     ]
    },
    {
     "data": {
      "image/png": "[encoded data removed]",
      "text/plain": [
       "<matplotlib.figure.Figure at 0x13466a90>"
      ]
     },
     "metadata": {},
     "output_type": "display_data"
    },
    {
     "name": "stdout",
     "output_type": "stream",
     "text": [
      "tensor(5)\n"
     ]
    }
   ],
   "source": [
    "#every element of train_dataset is a tuple conformed by a tensor (the image) and its label\n",
    "print(train_dataset[0][0].dim()) #image\n",
    "print(train_dataset[0][0].size())\n",
    "print(train_dataset[0][1].dim()) #label (the corresponding number)\n",
    "print(train_dataset[0][1].size())\n",
    "\n",
    "plt.imshow(train_dataset[0][0][0], cmap = 'gray' )\n",
    "plt.show()\n",
    "\n",
    "print(train_dataset[0][1])"
   ]
  },
  {
   "cell_type": "markdown",
   "metadata": {},
   "source": [
    "#### Reshaping an element of train_dataset"
   ]
  },
  {
   "cell_type": "code",
   "execution_count": 6,
   "metadata": {},
   "outputs": [
    {
     "name": "stdout",
     "output_type": "stream",
     "text": [
      "torch.Size([1, 784])\n",
      "2\n"
     ]
    }
   ],
   "source": [
    "img = train_dataset[0][0]\n",
    "#making img into a 1d tensor\n",
    "reshaped_img = img.view(-1, inputs)     #-1 infers the correct size given the other dimensions (inputs)\n",
    "print(reshaped_img.size())\n",
    "print(reshaped_img.dim())\n"
   ]
  },
  {
   "cell_type": "markdown",
   "metadata": {},
   "source": [
    "#### Inspecting a DataLoader"
   ]
  },
  {
   "cell_type": "code",
   "execution_count": 7,
   "metadata": {},
   "outputs": [],
   "source": [
    "batches = list(train_loader)"
   ]
  },
  {
   "cell_type": "code",
   "execution_count": 8,
   "metadata": {},
   "outputs": [
    {
     "name": "stdout",
     "output_type": "stream",
     "text": [
      "torch.Size([20, 1, 28, 28])\n",
      "torch.Size([20])\n"
     ]
    }
   ],
   "source": [
    "#every batch has 20 images and 20 labels\n",
    "batch = batches[0]\n",
    "print( batch[0].size() )\n",
    "print( batch[1].size() )"
   ]
  },
  {
   "cell_type": "markdown",
   "metadata": {},
   "source": [
    "### Multi Layer Perceptron"
   ]
  },
  {
   "cell_type": "code",
   "execution_count": 9,
   "metadata": {
    "collapsed": true
   },
   "outputs": [],
   "source": [
    "\n",
    "class mlp(nn.Module):\n",
    "    def __init__(self):\n",
    "        super(mlp, self).__init__()\n",
    "        self.sigmoid = nn.Sigmoid()\n",
    "        self.hidden_layer = nn.Linear(inputs, hiddens)\n",
    "        self.output_layer = nn.Linear(hiddens, outputs)\n",
    "\n",
    "    def forward(self, x):\n",
    "        out = self.sigmoid(self.hidden_layer(x))\n",
    "        out = self.sigmoid(self.output_layer(out))\n",
    "        return out\n",
    "\n",
    "    def name(self):\n",
    "        return \"mlp\"\n",
    "\n",
    "def train():\n",
    "    model = mlp()\n",
    "    loss = nn.MSELoss(size_average=False)\n",
    "    optimizer = torch.optim.SGD(model.parameters(), lr=learning_rate)\n",
    "\n",
    "    for epoch in range(epochs):\n",
    "        avg_error = 0\n",
    "        #for every image in train_loader\n",
    "        for i, (images, labels) in enumerate(train_loader):\n",
    "            \n",
    "            images = Variable(images.view(-1, inputs))\n",
    "            # Convert class label to one hot vector \n",
    "            one_hot = torch.FloatTensor(labels.size(0), 10).zero_()\n",
    "            target = one_hot.scatter_(1, labels.view((labels.size(0),1)), 1)            \n",
    "            target = Variable(target)\n",
    "            # Compute loss and gradient\n",
    "            optimizer.zero_grad()\n",
    "            out = model(images)\n",
    "            error = loss(out, target)\n",
    "            error.backward()\n",
    "            # Apply gradient\n",
    "            optimizer.step()\n",
    "            avg_error += error.data[0]\n",
    "        # Average cost for epoch (over all training dataset samples)\n",
    "        avg_error /= train_loader.dataset.train_data.shape[0]\n",
    "        #print (\"Epoch [%d/%d], error: %.4f\" %(epoch+1, epochs, avg_error))\n",
    "    # Save model to file\n",
    "    torch.save(model.state_dict(), 'model.pkl')\n",
    "\n",
    "def predict_all():\n",
    "    model = mlp()\n",
    "    model.load_state_dict(torch.load('model.pkl'))\n",
    "    correct, total = 0, 0\n",
    "    for images, labels in test_loader:\n",
    "        images = Variable(images.view(-1, inputs))\n",
    "        out = model(images)\n",
    "        _, predicted = torch.max(out.data, 1)\n",
    "        total += labels.size(0)\n",
    "        correct += (predicted == labels).sum()\n",
    "    print('accuracy: %0.2f %%' % (100.0 * correct / total))   \n"
   ]
  },
  {
   "cell_type": "markdown",
   "metadata": {},
   "source": [
    "### Training and saving the model!"
   ]
  },
  {
   "cell_type": "code",
   "execution_count": null,
   "metadata": {},
   "outputs": [],
   "source": [
    "train()"
   ]
  },
  {
   "cell_type": "markdown",
   "metadata": {
    "collapsed": true
   },
   "source": [
    "### Loading a model and classifying an image from the test_dataset"
   ]
  },
  {
   "cell_type": "code",
   "execution_count": 10,
   "metadata": {},
   "outputs": [
    {
     "data": {
      "image/png": "[encoded data removed]",
      "text/plain": [
       "<matplotlib.figure.Figure at 0x1894ae80>"
      ]
     },
     "metadata": {},
     "output_type": "display_data"
    },
    {
     "name": "stdout",
     "output_type": "stream",
     "text": [
      "my prediction is 5 and the actual digit was 5 \n"
     ]
    }
   ],
   "source": [
    "model = mlp()\n",
    "model.load_state_dict(torch.load('model.pkl'))\n",
    "\n",
    "i = random.randint(0,10000)\n",
    "img = test_dataset[i][0]\n",
    "reshaped_img = img.view(-1, inputs)\n",
    "out = model(reshaped_img)\n",
    "_,predicted = torch.max(out,1)\n",
    "\n",
    "plt.imshow(img[0], cmap = 'gray' )\n",
    "plt.show()\n",
    "\n",
    "print(\"my prediction is {} and the actual digit was {} \".format(predicted[0], test_dataset[i][1]))\n",
    "\n"
   ]
  }
 ],
 "metadata": {
  "kernelspec": {
   "display_name": "Python 3",
   "language": "python",
   "name": "python3"
  },
  "language_info": {
   "codemirror_mode": {
    "name": "ipython",
    "version": 3
   },
   "file_extension": ".py",
   "mimetype": "text/x-python",
   "name": "python",
   "nbconvert_exporter": "python",
   "pygments_lexer": "ipython3",
   "version": "3.6.3"
  }
 },
 "nbformat": 4,
 "nbformat_minor": 2
}
