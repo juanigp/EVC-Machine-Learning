{
 "cells": [
  {
   "cell_type": "markdown",
   "metadata": {},
   "source": [
    "# U Net, MNIST dataset\n",
    "\n",
    "\n",
    "### A tweak on the toy autoencoder\n"
   ]
  },
  {
   "cell_type": "code",
   "execution_count": 35,
   "metadata": {},
   "outputs": [],
   "source": [
    "import os\n",
    "import torch \n",
    "from torch.autograd import Variable\n",
    "import torch.nn as nn\n",
    "import torchvision\n",
    "from torchvision import transforms \n",
    "from torchvision.utils import save_image\n",
    "import random\n",
    "import math\n",
    "from matplotlib import pyplot as plt"
   ]
  },
  {
   "cell_type": "code",
   "execution_count": null,
   "metadata": {},
   "outputs": [],
   "source": [
    "num_epochs = 20\n",
    "batch_size = 100\n",
    "learning_rate = 0.001\n"
   ]
  },
  {
   "cell_type": "code",
   "execution_count": 37,
   "metadata": {},
   "outputs": [],
   "source": [
    "\n",
    "transform = transforms.Compose([transforms.ToTensor(), transforms.Normalize( mean = (0.5,0.5,0.5), std = (0.5,0.5,0.5))])\n",
    "\n",
    "#dataset for training (download = True to download the dataset for the first time)\n",
    "train_dataset = torchvision.datasets.MNIST('mnist/',train=True,transform=transform, download=False)\n",
    "#loader\n",
    "train_loader = torch.utils.data.DataLoader(dataset=train_dataset, batch_size=batch_size, shuffle=True)\n",
    "#dataset for testing (download = True to download the dataset for the first time)\n",
    "test_dataset = torchvision.datasets.MNIST('mnist/',train=False,transform=transform, download=False)\n",
    "#loader\n",
    "test_loader = torch.utils.data.DataLoader(dataset=test_dataset, batch_size=batch_size, shuffle=False)"
   ]
  },
  {
   "cell_type": "markdown",
   "metadata": {},
   "source": [
    "## Class definition"
   ]
  },
  {
   "cell_type": "code",
   "execution_count": 75,
   "metadata": {
    "scrolled": true
   },
   "outputs": [
    {
     "name": "stdout",
     "output_type": "stream",
     "text": [
      "28\n",
      "12\n",
      "4\n",
      "\n",
      "1\n",
      "\n",
      "4\n",
      "12\n",
      "28\n"
     ]
    }
   ],
   "source": [
    "#calculating the sizes of the feature maps for the contracting and expansive paths \n",
    "\n",
    "def o_downconv(i, k, s, p = 0):\n",
    "    o = math.floor( (i + 2*p - k)/s ) + 1\n",
    "    return o\n",
    "\n",
    "def o_upconv(i, k, s, p = 0):\n",
    "    o = (i-1)*s + k - 2*p\n",
    "    return o\n",
    "\n",
    "\n",
    "i = 28\n",
    "d_16 = o_downconv( i, 5, 2)\n",
    "d_32 = o_downconv( d_16, 5, 2)\n",
    "latent = o_downconv( d_32, 3, 2)\n",
    "\n",
    "print('{}\\n{}\\n{}\\n\\n{}\\n'.format(i, d_16, d_32, latent) )\n",
    "\n",
    "u_32 = o_upconv(latent, 4, 2)\n",
    "u_16 = o_upconv (u_32, 6, 2)\n",
    "o = o_upconv(u_16, 6, 2)\n",
    "\n",
    "print('{}\\n{}\\n{}'.format(u_32, u_16, o) )\n",
    "\n"
   ]
  },
  {
   "cell_type": "code",
   "execution_count": 42,
   "metadata": {},
   "outputs": [],
   "source": [
    "class UNet(nn.Module):\n",
    "    def __init__(self):\n",
    "        super(Autoencoder, self).__init__()\n",
    "        self.enc_1 = nn.Sequential(\n",
    "            nn.Conv2d(1,16, kernel_size = 5, stride = 2),\n",
    "            nn.BatchNorm2d(16),\n",
    "            nn.ReLU()\n",
    "        )\n",
    "        self.enc_2 = nn.Sequential(\n",
    "            nn.Conv2d(16,32, kernel_size = 5, stride = 2),\n",
    "            nn.BatchNorm2d(32),\n",
    "            nn.ReLU()\n",
    "        )\n",
    "        self.enc_3 = nn.Sequential(\n",
    "            nn.Conv2d(32,64, kernel_size = 3, stride = 2),\n",
    "            nn.BatchNorm2d(64),\n",
    "            nn.ReLU()\n",
    "        )\n",
    "        \n",
    "        self.dec_1 = nn.Sequential(\n",
    "            nn.ConvTranspose2d(64, 32, kernel_size = 4, stride = 2),\n",
    "            nn.ReLU()\n",
    "        )\n",
    "        \n",
    "        self.dec_2 = nn.Sequential(\n",
    "            nn.ConvTranspose2d(32 + 32, 16, kernel_size = 6, stride = 2),\n",
    "            nn.ReLU()\n",
    "        )       \n",
    "        \n",
    "        self.dec_3 = nn.Sequential(\n",
    "            nn.ConvTranspose2d(16 + 16, 1, kernel_size = 6, stride = 2),\n",
    "            nn.Tanh()\n",
    "            #nn.ReLU()\n",
    "        )        \n",
    "\n",
    "    def forward(self, x):\n",
    "        #downconvolutions\n",
    "        out = self.enc_1(x)\n",
    "        down_16 = out.clone()\n",
    "        \n",
    "        out = self.enc_2(out)\n",
    "        down_32 = out.clone()\n",
    "        \n",
    "        #code\n",
    "        out = self.enc_3(out)\n",
    "        \n",
    "        #upconvolutions\n",
    "        out = self.dec_1(out)\n",
    "        up_32_32 = torch.cat((out, down_32), 1)\n",
    "        out = self.dec_2(up_32_32)\n",
    "        up_16_16= torch.cat((out, down_16),1)\n",
    "        out = self.dec_3(up_16_16)\n",
    "        return out        "
   ]
  },
  {
   "cell_type": "markdown",
   "metadata": {},
   "source": [
    "## Instantiation, training and saving the model"
   ]
  },
  {
   "cell_type": "code",
   "execution_count": 43,
   "metadata": {},
   "outputs": [],
   "source": [
    "model = UNet()\n",
    "criterion = nn.MSELoss()\n",
    "#criterion = nn.BCEWithLogitsLoss() #instead of BCELoss() \n",
    "optimizer = torch.optim.Adam(model.parameters(), lr = learning_rate)\n",
    "\n",
    "\n",
    "#denormalize the image\n",
    "def denorm(x):\n",
    "    out = x*0.5 + 0.5\n",
    "    return out.clamp(0, 1)\n",
    "\n",
    "#train\n",
    "model.train()\n",
    "total_step = len(train_loader)\n",
    "for epoch in range(num_epochs):\n",
    "    for i, (images, labels) in enumerate(train_loader):\n",
    "        #forward pass\n",
    "        outputs = model(images)\n",
    "        loss = criterion(outputs, images)\n",
    "        \n",
    "        #backward & optimize\n",
    "        optimizer.zero_grad()\n",
    "        loss.backward()\n",
    "        optimizer.step()\n",
    "\n",
    "torch.save(model.state_dict(), 'toy_unet.pkl')  "
   ]
  },
  {
   "cell_type": "markdown",
   "metadata": {},
   "source": [
    "## Loading  a model and comparing results:"
   ]
  },
  {
   "cell_type": "code",
   "execution_count": 64,
   "metadata": {},
   "outputs": [
    {
     "data": {
      "image/png": "[encoded data removed]",
      "text/plain": [
       "<Figure size 432x288 with 2 Axes>"
      ]
     },
     "metadata": {},
     "output_type": "display_data"
    }
   ],
   "source": [
    "#loading\n",
    "model_test = UNet()\n",
    "model_test.load_state_dict(torch.load('toy_unet.pkl'))\n",
    "\n",
    "#autoencode a random image from the test dataset\n",
    "model_test.eval()\n",
    "test_image = random.choice(test_dataset)\n",
    "test_reconst = model_test((test_image[0].unsqueeze_(0)))\n",
    "\n",
    "#plotting (left = test_image ; right = test_reconst)\n",
    "fig, axs = plt.subplots(1, 2)\n",
    "axs[0].imshow( test_image[0][0][0])\n",
    "axs[1].imshow( test_reconst[0][0].detach().numpy())\n",
    "plt.show()\n"
   ]
  }
 ],
 "metadata": {
  "kernelspec": {
   "display_name": "Python 3",
   "language": "python",
   "name": "python3"
  },
  "language_info": {
   "codemirror_mode": {
    "name": "ipython",
    "version": 3
   },
   "file_extension": ".py",
   "mimetype": "text/x-python",
   "name": "python",
   "nbconvert_exporter": "python",
   "pygments_lexer": "ipython3",
   "version": "3.6.6"
  }
 },
 "nbformat": 4,
 "nbformat_minor": 2
}
