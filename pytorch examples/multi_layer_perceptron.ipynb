{
 "cells": [
  {
   "cell_type": "markdown",
   "metadata": {},
   "source": [
    "## Multi Layer Perceptron\n",
    "#### 3 hidden layers\n",
    "#### Sigmoid activation"
   ]
  },
  {
   "cell_type": "code",
   "execution_count": 1,
   "metadata": {
    "collapsed": true
   },
   "outputs": [],
   "source": [
    "import torch\n",
    "import torch.nn as nn\n",
    "import numpy as np\n",
    "import matplotlib.pyplot as plt\n",
    "from torch.autograd import Variable"
   ]
  },
  {
   "cell_type": "code",
   "execution_count": 2,
   "metadata": {},
   "outputs": [],
   "source": [
    "#Hyper Parameters\n",
    "input_size = 1 \n",
    "output_size = 1 \n",
    "hidden_size = 10 \n",
    "num_epochs = 1000\n",
    "learning_rate = 0.001\n",
    "\n",
    "n = 100\n",
    "\n",
    "\n",
    "#Dataset\n",
    "\n",
    "#unidimensional tensor of 100 elements\n",
    "x_train = torch.linspace(0,4*3.1416,100)\n",
    "y_train = x_train.data.numpy\n",
    "y_train = 10*np.sin(x_train)\n",
    "\n",
    "\n",
    "#reshaping to bidimensional tensors\n",
    "x_train = torch.reshape(x_train, (100, 1))\n",
    "y_train = torch.reshape(y_train, (100, 1))\n",
    "\n",
    "\n",
    "#MLP class\n",
    "class MLP(nn.Module):\n",
    "    def __init__(self, input_size, output_size):\n",
    "        #nn.Module.__init__(self)\n",
    "        super(MLP, self).__init__()\n",
    "        \n",
    "        self.sigmoid = nn.Sigmoid()\n",
    "        self.hidden_1 = nn.Linear(input_size, hidden_size)\n",
    "        self.hidden_2 = nn.Linear(hidden_size, hidden_size)\n",
    "        self.hidden_3 = nn.Linear(hidden_size, hidden_size)\n",
    "        self.output = nn.Linear(hidden_size, output_size) \n",
    "        \n",
    "    #defines the computation performed at every call\n",
    "    def forward(self, x):\n",
    "        out = self.sigmoid(self.hidden_1(x))\n",
    "        out = self.sigmoid(self.hidden_2(out))\n",
    "        out = self.sigmoid(self.hidden_3(out))\n",
    "        out = self.output(out) \n",
    "        return out\n"
   ]
  },
  {
   "cell_type": "code",
   "execution_count": 3,
   "metadata": {
    "collapsed": true
   },
   "outputs": [],
   "source": [
    "model = MLP(input_size, output_size)\n",
    "\n",
    "#Loss and Optimizer\n",
    "#creates a criterion that measures the mean squared error \n",
    "#between n elements in the input x and target y\n",
    "criterion = nn.MSELoss()\n",
    "#optimizer, Stochastic Gradient Descent\n",
    "optimizer = torch.optim.SGD(model.parameters(), lr = learning_rate)"
   ]
  },
  {
   "cell_type": "code",
   "execution_count": 4,
   "metadata": {},
   "outputs": [
    {
     "name": "stderr",
     "output_type": "stream",
     "text": [
      "C:\\Users\\Juanig\\Anaconda3\\lib\\site-packages\\ipykernel_launcher.py:20: UserWarning: invalid index of a 0-dim tensor. This will be an error in PyTorch 0.5. Use tensor.item() to convert a 0-dim tensor to a Python number\n"
     ]
    },
    {
     "name": "stdout",
     "output_type": "stream",
     "text": [
      "Epoch [100/1000], Loss: 49.5083\n",
      "Epoch [200/1000], Loss: 49.5021\n",
      "Epoch [300/1000], Loss: 49.4999\n",
      "Epoch [400/1000], Loss: 49.4988\n",
      "Epoch [500/1000], Loss: 49.4980\n",
      "Epoch [600/1000], Loss: 49.4973\n",
      "Epoch [700/1000], Loss: 49.4966\n",
      "Epoch [800/1000], Loss: 49.4959\n",
      "Epoch [900/1000], Loss: 49.4952\n",
      "Epoch [1000/1000], Loss: 49.4945\n"
     ]
    }
   ],
   "source": [
    "#Train\n",
    "for epoch in range(num_epochs):\n",
    "    inputs = x_train\n",
    "    targets = y_train\n",
    "    \n",
    "    #Forward + Backward + Optimize\n",
    "    \n",
    "    #clears the gradients of all optimized torch.Tensors \n",
    "    optimizer.zero_grad()\n",
    "    #applies linear transformation (a call to model.forward(inputs) )\n",
    "    output = model(inputs)\n",
    "    #calculates RMS error between targets and output\n",
    "    loss = criterion(output, targets)\n",
    "    #accumulates the gradient for each parameter\n",
    "    loss.backward()\n",
    "    #updates parameters based on current gradients\n",
    "    optimizer.step()\n",
    "    \n",
    "    if (epoch + 1) % 100 == 0:\n",
    "        print ('Epoch [%d/%d], Loss: %.4f' %(epoch+1, num_epochs, loss.data[0])) \n"
   ]
  },
  {
   "cell_type": "code",
   "execution_count": 5,
   "metadata": {},
   "outputs": [
    {
     "data": {
      "image/png": "[encoded data removed]",
      "text/plain": [
       "<matplotlib.figure.Figure at 0x10a23978>"
      ]
     },
     "metadata": {},
     "output_type": "display_data"
    }
   ],
   "source": [
    "#Plot\n",
    "predicted = model(x_train).data\n",
    "plt.plot(x_train.numpy(), y_train.numpy(), 'ro', label='Original data')\n",
    "plt.plot(x_train.numpy(), predicted.numpy(), 'bo', label='Fitted line')\n",
    "plt.legend()\n",
    "plt.show()"
   ]
  }
 ],
 "metadata": {
  "kernelspec": {
   "display_name": "Python 3",
   "language": "python",
   "name": "python3"
  },
  "language_info": {
   "codemirror_mode": {
    "name": "ipython",
    "version": 3
   },
   "file_extension": ".py",
   "mimetype": "text/x-python",
   "name": "python",
   "nbconvert_exporter": "python",
   "pygments_lexer": "ipython3",
   "version": "3.6.3"
  }
 },
 "nbformat": 4,
 "nbformat_minor": 2
}
