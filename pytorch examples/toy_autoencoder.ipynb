{
 "cells": [
  {
   "cell_type": "markdown",
   "metadata": {},
   "source": [
    "# Convolutional Autoencoder, MNIST dataset\n",
    "\n",
    "\n",
    "### Some comments:\n",
    "- the 2 downconv + 2 upconv net is easier for training\n",
    "- the 3+3 layers net I coded works well when trained on 20 epochs and a tanh layer as the last one of the decoder (why ReLU doesnt perform as well?)\n",
    "- should try BCE loss"
   ]
  },
  {
   "cell_type": "code",
   "execution_count": 9,
   "metadata": {},
   "outputs": [],
   "source": [
    "import os\n",
    "import torch \n",
    "from torch.autograd import Variable\n",
    "import torch.nn as nn\n",
    "import torchvision\n",
    "from torchvision import transforms \n",
    "from torchvision.utils import save_image\n",
    "import random\n",
    "from matplotlib import pyplot as plt"
   ]
  },
  {
   "cell_type": "code",
   "execution_count": 10,
   "metadata": {},
   "outputs": [
    {
     "data": {
      "text/plain": [
       "\"\\nsample_dir = '1st_autoencoder'\\nif not os.path.exists(sample_dir):\\n    os.makedirs(sample_dir)\\n\""
      ]
     },
     "execution_count": 10,
     "metadata": {},
     "output_type": "execute_result"
    }
   ],
   "source": [
    "num_epochs = 20\n",
    "batch_size = 100\n",
    "learning_rate = 0.001\n",
    "\"\"\"\n",
    "sample_dir = '1st_autoencoder'\n",
    "if not os.path.exists(sample_dir):\n",
    "    os.makedirs(sample_dir)\n",
    "\"\"\"    "
   ]
  },
  {
   "cell_type": "code",
   "execution_count": 11,
   "metadata": {},
   "outputs": [],
   "source": [
    "\n",
    "transform = transforms.Compose([transforms.ToTensor(), transforms.Normalize( mean = (0.5,0.5,0.5), std = (0.5,0.5,0.5))])\n",
    "\n",
    "#dataset for training (download = True to download the dataset for the first time)\n",
    "train_dataset = torchvision.datasets.MNIST('mnist/',train=True,transform=transform, download=False)\n",
    "#loader\n",
    "train_loader = torch.utils.data.DataLoader(dataset=train_dataset, batch_size=batch_size, shuffle=True)\n",
    "#dataset for testing (download = True to download the dataset for the first time)\n",
    "test_dataset = torchvision.datasets.MNIST('mnist/',train=False,transform=transform, download=False)\n",
    "#loader\n",
    "test_loader = torch.utils.data.DataLoader(dataset=test_dataset, batch_size=batch_size, shuffle=False)"
   ]
  },
  {
   "cell_type": "markdown",
   "metadata": {},
   "source": [
    "## Class definition"
   ]
  },
  {
   "cell_type": "code",
   "execution_count": 12,
   "metadata": {},
   "outputs": [],
   "source": [
    "class Autoencoder(nn.Module):\n",
    "    def __init__(self):\n",
    "        super(Autoencoder, self).__init__()\n",
    "        self.enc_1 = nn.Sequential(\n",
    "            nn.Conv2d(1,16, kernel_size = 5, stride = 2),\n",
    "            nn.BatchNorm2d(16),\n",
    "            nn.ReLU()\n",
    "        )\n",
    "        self.enc_2 = nn.Sequential(\n",
    "            nn.Conv2d(16,32, kernel_size = 5, stride = 2),\n",
    "            nn.BatchNorm2d(32),\n",
    "            nn.ReLU()\n",
    "        )\n",
    "        self.enc_3 = nn.Sequential(\n",
    "            nn.Conv2d(32,64, kernel_size = 3, stride = 2),\n",
    "            nn.BatchNorm2d(64),\n",
    "            nn.ReLU()\n",
    "        )\n",
    "        \n",
    "        self.dec_1 = nn.Sequential(\n",
    "            nn.ConvTranspose2d(64, 32, kernel_size = 4, stride = 2),\n",
    "            nn.ReLU()\n",
    "        )\n",
    "        \n",
    "        self.dec_2 = nn.Sequential(\n",
    "            nn.ConvTranspose2d(32, 16, kernel_size = 5, stride = 2),\n",
    "            nn.ReLU()\n",
    "        )       \n",
    "        \n",
    "        self.dec_3 = nn.Sequential(\n",
    "            nn.ConvTranspose2d(16, 1, kernel_size = 8, stride = 2),\n",
    "            nn.Tanh()\n",
    "            #nn.ReLU()\n",
    "        )        \n",
    "\n",
    "    def forward(self, x):\n",
    "        out = self.enc_1(x)\n",
    "        out = self.enc_2(out)\n",
    "        out = self.enc_3(out)\n",
    "        \n",
    "        out = self.dec_1(out)\n",
    "        out = self.dec_2(out)\n",
    "        out = self.dec_3(out)\n",
    "        return out        "
   ]
  },
  {
   "cell_type": "code",
   "execution_count": null,
   "metadata": {},
   "outputs": [],
   "source": [
    "# conv_autoencoder.py from github repo L1aoXingyu/pytorch-beginner :\n",
    "\"\"\"\n",
    "class Autoencoder(nn.Module):\n",
    "    def __init__(self):\n",
    "        super(Autoencoder, self).__init__()\n",
    "\n",
    "        self.encoder = nn.Sequential(\n",
    "        nn.Conv2d(1, 16, 3, stride=3, padding=1),  # b, 16, 10, 10\n",
    "        nn.ReLU(True),\n",
    "        nn.MaxPool2d(2, stride=2),  # b, 16, 5, 5\n",
    "        nn.Conv2d(16, 8, 3, stride=2, padding=1),  # b, 8, 3, 3\n",
    "        nn.ReLU(True),\n",
    "        nn.MaxPool2d(2, stride=1)  # b, 8, 2, 2\n",
    "    )\n",
    "        self.decoder = nn.Sequential(\n",
    "        nn.ConvTranspose2d(8, 16, 3, stride=2),  # b, 16, 5, 5\n",
    "        nn.ReLU(True),\n",
    "        nn.ConvTranspose2d(16, 8, 5, stride=3, padding=1),  # b, 8, 15, 15\n",
    "        nn.ReLU(True),\n",
    "        nn.ConvTranspose2d(8, 1, 2, stride=2, padding=1),  # b, 1, 28, 28\n",
    "        nn.Tanh()\n",
    "    )\n",
    "        \n",
    "\n",
    "    def forward(self, x):\n",
    "        x = self.encoder(x)\n",
    "        x = self.decoder(x)\n",
    "        return x   \n",
    "\"\"\""
   ]
  },
  {
   "cell_type": "markdown",
   "metadata": {},
   "source": [
    "## Instantiation, training and saving the model"
   ]
  },
  {
   "cell_type": "code",
   "execution_count": 14,
   "metadata": {},
   "outputs": [],
   "source": [
    "model = Autoencoder()\n",
    "criterion = nn.MSELoss()\n",
    "#criterion = nn.BCEWithLogitsLoss() #instead of BCELoss() \n",
    "optimizer = torch.optim.Adam(model.parameters(), lr = learning_rate)\n",
    "\n",
    "\n",
    "#denormalize the image\n",
    "def denorm(x):\n",
    "    out = x*0.5 + 0.5\n",
    "    return out.clamp(0, 1)\n",
    "\n",
    "#train\n",
    "model.train()\n",
    "total_step = len(train_loader)\n",
    "for epoch in range(num_epochs):\n",
    "    for i, (images, labels) in enumerate(train_loader):\n",
    "        #forward pass\n",
    "        outputs = model(images)\n",
    "        loss = criterion(outputs, images)\n",
    "        \n",
    "        #backward & optimize\n",
    "        optimizer.zero_grad()\n",
    "        loss.backward()\n",
    "        optimizer.step()\n",
    "        \"\"\" \n",
    "        if (i+1) % 1 == 0:\n",
    "            print('Epoch [{}/{}], Step [{}/{}], Loss: {:.4f}' \n",
    "                .format(epoch+1, num_epochs, i+1, total_step, loss.item()))\n",
    "        \"\"\"        \n",
    "        \n",
    "torch.save(model.state_dict(), 'toy_autoencoder_tanh_mse.pkl')  "
   ]
  },
  {
   "cell_type": "markdown",
   "metadata": {},
   "source": [
    "## Loading  a model and comparing results:"
   ]
  },
  {
   "cell_type": "code",
   "execution_count": 15,
   "metadata": {},
   "outputs": [
    {
     "data": {
      "image/png": "[encoded data removed]",
      "text/plain": [
       "<Figure size 432x288 with 2 Axes>"
      ]
     },
     "metadata": {},
     "output_type": "display_data"
    }
   ],
   "source": [
    "#loading\n",
    "model_test = Autoencoder()\n",
    "model_test.load_state_dict(torch.load('toy_autoencoder_tanh_mse.pkl'))\n",
    "\n",
    "#autoencode a random image from the test dataset\n",
    "model_test.eval()\n",
    "test_image = random.choice(test_dataset)\n",
    "test_reconst = model_test((test_image[0].unsqueeze_(0)))\n",
    "\n",
    "#plotting (left = test_image ; right = test_reconst)\n",
    "fig, axs = plt.subplots(1, 2)\n",
    "axs[0].imshow( test_image[0][0][0])\n",
    "axs[1].imshow( test_reconst[0][0].detach().numpy())\n",
    "plt.show()\n"
   ]
  }
 ],
 "metadata": {
  "kernelspec": {
   "display_name": "Python 3",
   "language": "python",
   "name": "python3"
  },
  "language_info": {
   "codemirror_mode": {
    "name": "ipython",
    "version": 3
   },
   "file_extension": ".py",
   "mimetype": "text/x-python",
   "name": "python",
   "nbconvert_exporter": "python",
   "pygments_lexer": "ipython3",
   "version": "3.6.6"
  }
 },
 "nbformat": 4,
 "nbformat_minor": 2
}
